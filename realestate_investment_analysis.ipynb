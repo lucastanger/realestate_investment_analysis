{
  "nbformat": 4,
  "nbformat_minor": 0,
  "metadata": {
    "colab": {
      "name": "DataScience.ipynb",
      "provenance": [],
      "collapsed_sections": [],
      "include_colab_link": true
    },
    "kernelspec": {
      "name": "python3",
      "display_name": "Python 3"
    }
  },
  "cells": [
    {
      "cell_type": "markdown",
      "metadata": {
        "id": "view-in-github",
        "colab_type": "text"
      },
      "source": [
        "<a href=\"https://colab.research.google.com/github/lucastanger/realestate_investment_analysis/blob/main/realestate_investment_analysis.ipynb\" target=\"_parent\"><img src=\"https://colab.research.google.com/assets/colab-badge.svg\" alt=\"Open In Colab\"/></a>"
      ]
    },
    {
      "cell_type": "markdown",
      "metadata": {
        "id": "I1gnYqG6uEuK"
      },
      "source": [
        "# Data Science Prüfungsleistung\n",
        "\n",
        "*   MatNr: 7474265\n",
        "*   MatNr: **TODO**\n",
        "\n"
      ]
    },
    {
      "cell_type": "code",
      "metadata": {
        "id": "2kqQtzdYrkxH"
      },
      "source": [
        "# Necessary imports\n",
        "\n",
        "import pandas as pd\n",
        "import matplotlib.pyplot as plt\n",
        "import seaborn as sns\n",
        "import numpy as np\n",
        "import urllib\n",
        "\n",
        "%matplotlib inline"
      ],
      "execution_count": 1,
      "outputs": []
    },
    {
      "cell_type": "markdown",
      "metadata": {
        "id": "3zGsLdYrucz9"
      },
      "source": [
        "# Receive data from url\n",
        "\n",
        "Dataset avaiable from https://raw.githubusercontent.com/lucastanger/realestate_investment_analysis/main/Data.csv?token=AJLCGMZNUCOBDGDLRVPY54S7UWKXQ\n"
      ]
    },
    {
      "cell_type": "code",
      "metadata": {
        "id": "S5g1PDP5raM2"
      },
      "source": [
        "# Read CSV Data\n",
        "\n",
        "# data = pd.read_csv('/Users/stang/Downloads/Data.csv', sep=\";\", encoding=\"iso-8859-1\")\n",
        "d = urllib.request.urlopen('https://raw.githubusercontent.com/lucastanger/realestate_investment_analysis/main/Data.csv?token=AJLCGMZNUCOBDGDLRVPY54S7UWKXQ')\n",
        "\n",
        "data = pd.read_csv(d, sep=\";\", encoding=\"iso-8859-1\")\n"
      ],
      "execution_count": 5,
      "outputs": []
    },
    {
      "cell_type": "code",
      "metadata": {
        "id": "hBOtAJ04uAke",
        "outputId": "373e3f99-49b3-4cea-c5dc-a13eb33fc3d1",
        "colab": {
          "base_uri": "https://localhost:8080/",
          "height": 538
        }
      },
      "source": [
        "# Initial data overview\n",
        "# N = 2000 => datapoints (rows)\n",
        "# p = 28 => dimensions (cols)\n",
        "\n",
        "# Goal: Forecast of valuable real estate investments\n",
        "# Inference: **TODO**\n",
        "data"
      ],
      "execution_count": 6,
      "outputs": [
        {
          "output_type": "execute_result",
          "data": {
            "text/html": [
              "<div>\n",
              "<style scoped>\n",
              "    .dataframe tbody tr th:only-of-type {\n",
              "        vertical-align: middle;\n",
              "    }\n",
              "\n",
              "    .dataframe tbody tr th {\n",
              "        vertical-align: top;\n",
              "    }\n",
              "\n",
              "    .dataframe thead th {\n",
              "        text-align: right;\n",
              "    }\n",
              "</style>\n",
              "<table border=\"1\" class=\"dataframe\">\n",
              "  <thead>\n",
              "    <tr style=\"text-align: right;\">\n",
              "      <th></th>\n",
              "      <th>Grundstück in qm</th>\n",
              "      <th>Grundstücksform</th>\n",
              "      <th>Steigung</th>\n",
              "      <th>Bezirk</th>\n",
              "      <th>Zone</th>\n",
              "      <th>Lage</th>\n",
              "      <th>Typ</th>\n",
              "      <th>Zustand</th>\n",
              "      <th>Gebaut</th>\n",
              "      <th>Renoviert</th>\n",
              "      <th>Zustand Fassade</th>\n",
              "      <th>Kellerfläche in qm</th>\n",
              "      <th>Heizung</th>\n",
              "      <th>Heizungsqualität</th>\n",
              "      <th>Klimaanlage</th>\n",
              "      <th>Erster Stock in qm</th>\n",
              "      <th>Zweiter Stock in qm</th>\n",
              "      <th>Wohnfläche in qm</th>\n",
              "      <th>Schlafzimmer</th>\n",
              "      <th>Küchen</th>\n",
              "      <th>Küchenqualität</th>\n",
              "      <th>Räume</th>\n",
              "      <th>Garage Typ</th>\n",
              "      <th>Garagenkapazitt</th>\n",
              "      <th>Pool</th>\n",
              "      <th>Verkaufsmonat</th>\n",
              "      <th>Verkaufsjahr</th>\n",
              "      <th>Preis</th>\n",
              "    </tr>\n",
              "  </thead>\n",
              "  <tbody>\n",
              "    <tr>\n",
              "      <th>0</th>\n",
              "      <td>898</td>\n",
              "      <td>IR1</td>\n",
              "      <td>Nein</td>\n",
              "      <td>Somerset</td>\n",
              "      <td>RL</td>\n",
              "      <td>Norm</td>\n",
              "      <td>2Fam</td>\n",
              "      <td>4</td>\n",
              "      <td>2107</td>\n",
              "      <td>2107</td>\n",
              "      <td>3</td>\n",
              "      <td>183</td>\n",
              "      <td>GasA</td>\n",
              "      <td>Ty</td>\n",
              "      <td>Y</td>\n",
              "      <td>183</td>\n",
              "      <td>0</td>\n",
              "      <td>183</td>\n",
              "      <td>6</td>\n",
              "      <td>2</td>\n",
              "      <td>3</td>\n",
              "      <td>10</td>\n",
              "      <td>Anbau</td>\n",
              "      <td>2</td>\n",
              "      <td>NaN</td>\n",
              "      <td>8</td>\n",
              "      <td>2136</td>\n",
              "      <td>156500</td>\n",
              "    </tr>\n",
              "    <tr>\n",
              "      <th>1</th>\n",
              "      <td>1326</td>\n",
              "      <td>Reg</td>\n",
              "      <td>Nein</td>\n",
              "      <td>North East</td>\n",
              "      <td>RL</td>\n",
              "      <td>Norm</td>\n",
              "      <td>1Fam</td>\n",
              "      <td>5</td>\n",
              "      <td>2133</td>\n",
              "      <td>2133</td>\n",
              "      <td>3</td>\n",
              "      <td>122</td>\n",
              "      <td>GasA</td>\n",
              "      <td>Ex</td>\n",
              "      <td>Y</td>\n",
              "      <td>113</td>\n",
              "      <td>109</td>\n",
              "      <td>222</td>\n",
              "      <td>3</td>\n",
              "      <td>1</td>\n",
              "      <td>4</td>\n",
              "      <td>7</td>\n",
              "      <td>Anbau</td>\n",
              "      <td>3</td>\n",
              "      <td>NaN</td>\n",
              "      <td>1</td>\n",
              "      <td>2137</td>\n",
              "      <td>350000</td>\n",
              "    </tr>\n",
              "    <tr>\n",
              "      <th>2</th>\n",
              "      <td>725</td>\n",
              "      <td>Reg</td>\n",
              "      <td>Nein</td>\n",
              "      <td>Somerset</td>\n",
              "      <td>RL</td>\n",
              "      <td>Norm</td>\n",
              "      <td>1Fam</td>\n",
              "      <td>7</td>\n",
              "      <td>2096</td>\n",
              "      <td>2138</td>\n",
              "      <td>3</td>\n",
              "      <td>80</td>\n",
              "      <td>GasA</td>\n",
              "      <td>Ex</td>\n",
              "      <td>Y</td>\n",
              "      <td>83</td>\n",
              "      <td>0</td>\n",
              "      <td>83</td>\n",
              "      <td>3</td>\n",
              "      <td>1</td>\n",
              "      <td>4</td>\n",
              "      <td>5</td>\n",
              "      <td>Freistehend</td>\n",
              "      <td>1</td>\n",
              "      <td>NaN</td>\n",
              "      <td>6</td>\n",
              "      <td>2140</td>\n",
              "      <td>137900</td>\n",
              "    </tr>\n",
              "    <tr>\n",
              "      <th>3</th>\n",
              "      <td>725</td>\n",
              "      <td>Reg</td>\n",
              "      <td>Nein</td>\n",
              "      <td>Somerset West</td>\n",
              "      <td>RL</td>\n",
              "      <td>Norm</td>\n",
              "      <td>1Fam</td>\n",
              "      <td>5</td>\n",
              "      <td>2135</td>\n",
              "      <td>2135</td>\n",
              "      <td>3</td>\n",
              "      <td>83</td>\n",
              "      <td>GasA</td>\n",
              "      <td>Ex</td>\n",
              "      <td>Y</td>\n",
              "      <td>83</td>\n",
              "      <td>74</td>\n",
              "      <td>157</td>\n",
              "      <td>3</td>\n",
              "      <td>1</td>\n",
              "      <td>4</td>\n",
              "      <td>8</td>\n",
              "      <td>Anbau</td>\n",
              "      <td>2</td>\n",
              "      <td>NaN</td>\n",
              "      <td>4</td>\n",
              "      <td>2136</td>\n",
              "      <td>184000</td>\n",
              "    </tr>\n",
              "    <tr>\n",
              "      <th>4</th>\n",
              "      <td>697</td>\n",
              "      <td>Reg</td>\n",
              "      <td>Nein</td>\n",
              "      <td>Miller</td>\n",
              "      <td>RL</td>\n",
              "      <td>Norm</td>\n",
              "      <td>1Fam</td>\n",
              "      <td>5</td>\n",
              "      <td>2129</td>\n",
              "      <td>2129</td>\n",
              "      <td>3</td>\n",
              "      <td>92</td>\n",
              "      <td>GasA</td>\n",
              "      <td>Gut</td>\n",
              "      <td>Y</td>\n",
              "      <td>96</td>\n",
              "      <td>72</td>\n",
              "      <td>168</td>\n",
              "      <td>3</td>\n",
              "      <td>1</td>\n",
              "      <td>4</td>\n",
              "      <td>7</td>\n",
              "      <td>Anbau</td>\n",
              "      <td>2</td>\n",
              "      <td>NaN</td>\n",
              "      <td>6</td>\n",
              "      <td>2140</td>\n",
              "      <td>189000</td>\n",
              "    </tr>\n",
              "    <tr>\n",
              "      <th>...</th>\n",
              "      <td>...</td>\n",
              "      <td>...</td>\n",
              "      <td>...</td>\n",
              "      <td>...</td>\n",
              "      <td>...</td>\n",
              "      <td>...</td>\n",
              "      <td>...</td>\n",
              "      <td>...</td>\n",
              "      <td>...</td>\n",
              "      <td>...</td>\n",
              "      <td>...</td>\n",
              "      <td>...</td>\n",
              "      <td>...</td>\n",
              "      <td>...</td>\n",
              "      <td>...</td>\n",
              "      <td>...</td>\n",
              "      <td>...</td>\n",
              "      <td>...</td>\n",
              "      <td>...</td>\n",
              "      <td>...</td>\n",
              "      <td>...</td>\n",
              "      <td>...</td>\n",
              "      <td>...</td>\n",
              "      <td>...</td>\n",
              "      <td>...</td>\n",
              "      <td>...</td>\n",
              "      <td>...</td>\n",
              "      <td>...</td>\n",
              "    </tr>\n",
              "    <tr>\n",
              "      <th>1995</th>\n",
              "      <td>1272</td>\n",
              "      <td>IR1</td>\n",
              "      <td>Nein</td>\n",
              "      <td>North East</td>\n",
              "      <td>RL</td>\n",
              "      <td>Norm</td>\n",
              "      <td>1Fam</td>\n",
              "      <td>5</td>\n",
              "      <td>2133</td>\n",
              "      <td>2134</td>\n",
              "      <td>3</td>\n",
              "      <td>146</td>\n",
              "      <td>GasA</td>\n",
              "      <td>Ex</td>\n",
              "      <td>Y</td>\n",
              "      <td>146</td>\n",
              "      <td>102</td>\n",
              "      <td>248</td>\n",
              "      <td>3</td>\n",
              "      <td>1</td>\n",
              "      <td>5</td>\n",
              "      <td>10</td>\n",
              "      <td>Eingebaut</td>\n",
              "      <td>3</td>\n",
              "      <td>NaN</td>\n",
              "      <td>3</td>\n",
              "      <td>2138</td>\n",
              "      <td>412500</td>\n",
              "    </tr>\n",
              "    <tr>\n",
              "      <th>1996</th>\n",
              "      <td>941</td>\n",
              "      <td>IR1</td>\n",
              "      <td>Nein</td>\n",
              "      <td>Miller</td>\n",
              "      <td>RL</td>\n",
              "      <td>Norm</td>\n",
              "      <td>1Fam</td>\n",
              "      <td>5</td>\n",
              "      <td>2134</td>\n",
              "      <td>2134</td>\n",
              "      <td>3</td>\n",
              "      <td>79</td>\n",
              "      <td>GasA</td>\n",
              "      <td>Ex</td>\n",
              "      <td>Y</td>\n",
              "      <td>79</td>\n",
              "      <td>69</td>\n",
              "      <td>148</td>\n",
              "      <td>3</td>\n",
              "      <td>1</td>\n",
              "      <td>4</td>\n",
              "      <td>7</td>\n",
              "      <td>Anbau</td>\n",
              "      <td>2</td>\n",
              "      <td>NaN</td>\n",
              "      <td>7</td>\n",
              "      <td>2139</td>\n",
              "      <td>195500</td>\n",
              "    </tr>\n",
              "    <tr>\n",
              "      <th>1997</th>\n",
              "      <td>1093</td>\n",
              "      <td>Reg</td>\n",
              "      <td>Nein</td>\n",
              "      <td>Grand Park</td>\n",
              "      <td>RL</td>\n",
              "      <td>Norm</td>\n",
              "      <td>1Fam</td>\n",
              "      <td>7</td>\n",
              "      <td>2040</td>\n",
              "      <td>2130</td>\n",
              "      <td>3</td>\n",
              "      <td>52</td>\n",
              "      <td>GasA</td>\n",
              "      <td>Gut</td>\n",
              "      <td>N</td>\n",
              "      <td>74</td>\n",
              "      <td>51</td>\n",
              "      <td>125</td>\n",
              "      <td>2</td>\n",
              "      <td>1</td>\n",
              "      <td>3</td>\n",
              "      <td>6</td>\n",
              "      <td>Freistehend</td>\n",
              "      <td>1</td>\n",
              "      <td>NaN</td>\n",
              "      <td>5</td>\n",
              "      <td>2137</td>\n",
              "      <td>112000</td>\n",
              "    </tr>\n",
              "    <tr>\n",
              "      <th>1998</th>\n",
              "      <td>1228</td>\n",
              "      <td>IR1</td>\n",
              "      <td>Nein</td>\n",
              "      <td>North East</td>\n",
              "      <td>RL</td>\n",
              "      <td>Norm</td>\n",
              "      <td>1Fam</td>\n",
              "      <td>5</td>\n",
              "      <td>2134</td>\n",
              "      <td>2134</td>\n",
              "      <td>3</td>\n",
              "      <td>132</td>\n",
              "      <td>GasA</td>\n",
              "      <td>Ex</td>\n",
              "      <td>Y</td>\n",
              "      <td>132</td>\n",
              "      <td>45</td>\n",
              "      <td>178</td>\n",
              "      <td>3</td>\n",
              "      <td>1</td>\n",
              "      <td>4</td>\n",
              "      <td>9</td>\n",
              "      <td>Eingebaut</td>\n",
              "      <td>3</td>\n",
              "      <td>NaN</td>\n",
              "      <td>2</td>\n",
              "      <td>2136</td>\n",
              "      <td>279000</td>\n",
              "    </tr>\n",
              "    <tr>\n",
              "      <th>1999</th>\n",
              "      <td>778</td>\n",
              "      <td>Reg</td>\n",
              "      <td>Nein</td>\n",
              "      <td>Somerset</td>\n",
              "      <td>RL</td>\n",
              "      <td>Norm</td>\n",
              "      <td>1Fam</td>\n",
              "      <td>7</td>\n",
              "      <td>2071</td>\n",
              "      <td>2103</td>\n",
              "      <td>3</td>\n",
              "      <td>54</td>\n",
              "      <td>GasA</td>\n",
              "      <td>Gut</td>\n",
              "      <td>Y</td>\n",
              "      <td>80</td>\n",
              "      <td>45</td>\n",
              "      <td>125</td>\n",
              "      <td>2</td>\n",
              "      <td>1</td>\n",
              "      <td>4</td>\n",
              "      <td>6</td>\n",
              "      <td>2Typen</td>\n",
              "      <td>3</td>\n",
              "      <td>NaN</td>\n",
              "      <td>6</td>\n",
              "      <td>2138</td>\n",
              "      <td>152400</td>\n",
              "    </tr>\n",
              "  </tbody>\n",
              "</table>\n",
              "<p>2000 rows × 28 columns</p>\n",
              "</div>"
            ],
            "text/plain": [
              "      Grundstück in qm Grundstücksform  ... Verkaufsjahr   Preis\n",
              "0                  898             IR1  ...         2136  156500\n",
              "1                 1326             Reg  ...         2137  350000\n",
              "2                  725             Reg  ...         2140  137900\n",
              "3                  725             Reg  ...         2136  184000\n",
              "4                  697             Reg  ...         2140  189000\n",
              "...                ...             ...  ...          ...     ...\n",
              "1995              1272             IR1  ...         2138  412500\n",
              "1996               941             IR1  ...         2139  195500\n",
              "1997              1093             Reg  ...         2137  112000\n",
              "1998              1228             IR1  ...         2136  279000\n",
              "1999               778             Reg  ...         2138  152400\n",
              "\n",
              "[2000 rows x 28 columns]"
            ]
          },
          "metadata": {
            "tags": []
          },
          "execution_count": 6
        }
      ]
    },
    {
      "cell_type": "code",
      "metadata": {
        "id": "xcbuy9pgdZ55",
        "outputId": "bdb1152d-a745-4796-c255-0a0dbd5a345e",
        "colab": {
          "base_uri": "https://localhost:8080/",
          "height": 1000
        }
      },
      "source": [
        "for col in data:\n",
        "  if data[col].dtype == int:\n",
        "    print(data[col].name)\n",
        "    plt.boxplot(data[col], notch=True)\n",
        "    plt.show()\n",
        "  "
      ],
      "execution_count": 3,
      "outputs": [
        {
          "output_type": "stream",
          "text": [
            "Grundstück in qm\n"
          ],
          "name": "stdout"
        },
        {
          "output_type": "display_data",
          "data": {
            "image/png": "[encoded data removed]",
            "text/plain": [
              "<Figure size 432x288 with 1 Axes>"
            ]
          },
          "metadata": {
            "tags": [],
            "needs_background": "light"
          }
        },
        {
          "output_type": "stream",
          "text": [
            "Zustand\n"
          ],
          "name": "stdout"
        },
        {
          "output_type": "display_data",
          "data": {
            "image/png": "[encoded data removed]",
            "text/plain": [
              "<Figure size 432x288 with 1 Axes>"
            ]
          },
          "metadata": {
            "tags": [],
            "needs_background": "light"
          }
        },
        {
          "output_type": "stream",
          "text": [
            "Gebaut\n"
          ],
          "name": "stdout"
        },
        {
          "output_type": "display_data",
          "data": {
            "image/png": "[encoded data removed]",
            "text/plain": [
              "<Figure size 432x288 with 1 Axes>"
            ]
          },
          "metadata": {
            "tags": [],
            "needs_background": "light"
          }
        },
        {
          "output_type": "stream",
          "text": [
            "Renoviert\n"
          ],
          "name": "stdout"
        },
        {
          "output_type": "display_data",
          "data": {
            "image/png": "[encoded data removed]",
            "text/plain": [
              "<Figure size 432x288 with 1 Axes>"
            ]
          },
          "metadata": {
            "tags": [],
            "needs_background": "light"
          }
        },
        {
          "output_type": "stream",
          "text": [
            "Zustand Fassade\n"
          ],
          "name": "stdout"
        },
        {
          "output_type": "display_data",
          "data": {
            "image/png": "[encoded data removed]",
            "text/plain": [
              "<Figure size 432x288 with 1 Axes>"
            ]
          },
          "metadata": {
            "tags": [],
            "needs_background": "light"
          }
        },
        {
          "output_type": "stream",
          "text": [
            "Kellerfläche in qm\n"
          ],
          "name": "stdout"
        },
        {
          "output_type": "display_data",
          "data": {
            "image/png": "[encoded data removed]",
            "text/plain": [
              "<Figure size 432x288 with 1 Axes>"
            ]
          },
          "metadata": {
            "tags": [],
            "needs_background": "light"
          }
        },
        {
          "output_type": "stream",
          "text": [
            "Erster Stock in qm\n"
          ],
          "name": "stdout"
        },
        {
          "output_type": "display_data",
          "data": {
            "image/png": "[encoded data removed]",
            "text/plain": [
              "<Figure size 432x288 with 1 Axes>"
            ]
          },
          "metadata": {
            "tags": [],
            "needs_background": "light"
          }
        },
        {
          "output_type": "stream",
          "text": [
            "Zweiter Stock in qm\n"
          ],
          "name": "stdout"
        },
        {
          "output_type": "display_data",
          "data": {
            "image/png": "[encoded data removed]",
            "text/plain": [
              "<Figure size 432x288 with 1 Axes>"
            ]
          },
          "metadata": {
            "tags": [],
            "needs_background": "light"
          }
        },
        {
          "output_type": "stream",
          "text": [
            "Wohnfläche in qm\n"
          ],
          "name": "stdout"
        },
        {
          "output_type": "display_data",
          "data": {
            "image/png": "[encoded data removed]",
            "text/plain": [
              "<Figure size 432x288 with 1 Axes>"
            ]
          },
          "metadata": {
            "tags": [],
            "needs_background": "light"
          }
        },
        {
          "output_type": "stream",
          "text": [
            "Schlafzimmer\n"
          ],
          "name": "stdout"
        },
        {
          "output_type": "display_data",
          "data": {
            "image/png": "[encoded data removed]",
            "text/plain": [
              "<Figure size 432x288 with 1 Axes>"
            ]
          },
          "metadata": {
            "tags": [],
            "needs_background": "light"
          }
        },
        {
          "output_type": "stream",
          "text": [
            "Küchen\n"
          ],
          "name": "stdout"
        },
        {
          "output_type": "display_data",
          "data": {
            "image/png": "[encoded data removed]",
            "text/plain": [
              "<Figure size 432x288 with 1 Axes>"
            ]
          },
          "metadata": {
            "tags": [],
            "needs_background": "light"
          }
        },
        {
          "output_type": "stream",
          "text": [
            "Küchenqualität\n"
          ],
          "name": "stdout"
        },
        {
          "output_type": "display_data",
          "data": {
            "image/png": "[encoded data removed]",
            "text/plain": [
              "<Figure size 432x288 with 1 Axes>"
            ]
          },
          "metadata": {
            "tags": [],
            "needs_background": "light"
          }
        },
        {
          "output_type": "stream",
          "text": [
            "Räume\n"
          ],
          "name": "stdout"
        },
        {
          "output_type": "display_data",
          "data": {
            "image/png": "[encoded data removed]",
            "text/plain": [
              "<Figure size 432x288 with 1 Axes>"
            ]
          },
          "metadata": {
            "tags": [],
            "needs_background": "light"
          }
        },
        {
          "output_type": "stream",
          "text": [
            "Garagenkapazitt\n"
          ],
          "name": "stdout"
        },
        {
          "output_type": "display_data",
          "data": {
            "image/png": "[encoded data removed]",
            "text/plain": [
              "<Figure size 432x288 with 1 Axes>"
            ]
          },
          "metadata": {
            "tags": [],
            "needs_background": "light"
          }
        },
        {
          "output_type": "stream",
          "text": [
            "Verkaufsmonat\n"
          ],
          "name": "stdout"
        },
        {
          "output_type": "display_data",
          "data": {
            "image/png": "[encoded data removed]",
            "text/plain": [
              "<Figure size 432x288 with 1 Axes>"
            ]
          },
          "metadata": {
            "tags": [],
            "needs_background": "light"
          }
        },
        {
          "output_type": "stream",
          "text": [
            "Verkaufsjahr\n"
          ],
          "name": "stdout"
        },
        {
          "output_type": "display_data",
          "data": {
            "image/png": "[encoded data removed]",
            "text/plain": [
              "<Figure size 432x288 with 1 Axes>"
            ]
          },
          "metadata": {
            "tags": [],
            "needs_background": "light"
          }
        },
        {
          "output_type": "stream",
          "text": [
            "Preis\n"
          ],
          "name": "stdout"
        },
        {
          "output_type": "display_data",
          "data": {
            "image/png": "[encoded data removed]",
            "text/plain": [
              "<Figure size 432x288 with 1 Axes>"
            ]
          },
          "metadata": {
            "tags": [],
            "needs_background": "light"
          }
        }
      ]
    },
    {
      "cell_type": "code",
      "metadata": {
        "id": "erAMHESMsEV8",
        "outputId": "071de3f5-33b0-427b-b2e3-7a440c154c12",
        "colab": {
          "base_uri": "https://localhost:8080/",
          "height": 538
        }
      },
      "source": [
        "data"
      ],
      "execution_count": null,
      "outputs": [
        {
          "output_type": "execute_result",
          "data": {
            "text/html": [
              "<div>\n",
              "<style scoped>\n",
              "    .dataframe tbody tr th:only-of-type {\n",
              "        vertical-align: middle;\n",
              "    }\n",
              "\n",
              "    .dataframe tbody tr th {\n",
              "        vertical-align: top;\n",
              "    }\n",
              "\n",
              "    .dataframe thead th {\n",
              "        text-align: right;\n",
              "    }\n",
              "</style>\n",
              "<table border=\"1\" class=\"dataframe\">\n",
              "  <thead>\n",
              "    <tr style=\"text-align: right;\">\n",
              "      <th></th>\n",
              "      <th>Grundstück in qm</th>\n",
              "      <th>Grundstücksform</th>\n",
              "      <th>Steigung</th>\n",
              "      <th>Bezirk</th>\n",
              "      <th>Zone</th>\n",
              "      <th>Lage</th>\n",
              "      <th>Typ</th>\n",
              "      <th>Zustand</th>\n",
              "      <th>Gebaut</th>\n",
              "      <th>Renoviert</th>\n",
              "      <th>Zustand Fassade</th>\n",
              "      <th>Kellerfläche in qm</th>\n",
              "      <th>Heizung</th>\n",
              "      <th>Heizungsqualität</th>\n",
              "      <th>Klimaanlage</th>\n",
              "      <th>Erster Stock in qm</th>\n",
              "      <th>Zweiter Stock in qm</th>\n",
              "      <th>Wohnfläche in qm</th>\n",
              "      <th>Schlafzimmer</th>\n",
              "      <th>Küchen</th>\n",
              "      <th>Küchenqualität</th>\n",
              "      <th>Räume</th>\n",
              "      <th>Garage Typ</th>\n",
              "      <th>Garagenkapazitt</th>\n",
              "      <th>Pool</th>\n",
              "      <th>Verkaufsmonat</th>\n",
              "      <th>Verkaufsjahr</th>\n",
              "      <th>Preis</th>\n",
              "    </tr>\n",
              "  </thead>\n",
              "  <tbody>\n",
              "    <tr>\n",
              "      <th>0</th>\n",
              "      <td>898</td>\n",
              "      <td>IR1</td>\n",
              "      <td>Nein</td>\n",
              "      <td>Somerset</td>\n",
              "      <td>RL</td>\n",
              "      <td>Norm</td>\n",
              "      <td>2Fam</td>\n",
              "      <td>4</td>\n",
              "      <td>2107</td>\n",
              "      <td>2107</td>\n",
              "      <td>3</td>\n",
              "      <td>183</td>\n",
              "      <td>GasA</td>\n",
              "      <td>Ty</td>\n",
              "      <td>Y</td>\n",
              "      <td>183</td>\n",
              "      <td>0</td>\n",
              "      <td>183</td>\n",
              "      <td>6</td>\n",
              "      <td>2</td>\n",
              "      <td>3</td>\n",
              "      <td>10</td>\n",
              "      <td>Anbau</td>\n",
              "      <td>2</td>\n",
              "      <td>NaN</td>\n",
              "      <td>8</td>\n",
              "      <td>2136</td>\n",
              "      <td>156500</td>\n",
              "    </tr>\n",
              "    <tr>\n",
              "      <th>1</th>\n",
              "      <td>1326</td>\n",
              "      <td>Reg</td>\n",
              "      <td>Nein</td>\n",
              "      <td>North East</td>\n",
              "      <td>RL</td>\n",
              "      <td>Norm</td>\n",
              "      <td>1Fam</td>\n",
              "      <td>5</td>\n",
              "      <td>2133</td>\n",
              "      <td>2133</td>\n",
              "      <td>3</td>\n",
              "      <td>122</td>\n",
              "      <td>GasA</td>\n",
              "      <td>Ex</td>\n",
              "      <td>Y</td>\n",
              "      <td>113</td>\n",
              "      <td>109</td>\n",
              "      <td>222</td>\n",
              "      <td>3</td>\n",
              "      <td>1</td>\n",
              "      <td>4</td>\n",
              "      <td>7</td>\n",
              "      <td>Anbau</td>\n",
              "      <td>3</td>\n",
              "      <td>NaN</td>\n",
              "      <td>1</td>\n",
              "      <td>2137</td>\n",
              "      <td>350000</td>\n",
              "    </tr>\n",
              "    <tr>\n",
              "      <th>2</th>\n",
              "      <td>725</td>\n",
              "      <td>Reg</td>\n",
              "      <td>Nein</td>\n",
              "      <td>Somerset</td>\n",
              "      <td>RL</td>\n",
              "      <td>Norm</td>\n",
              "      <td>1Fam</td>\n",
              "      <td>7</td>\n",
              "      <td>2096</td>\n",
              "      <td>2138</td>\n",
              "      <td>3</td>\n",
              "      <td>80</td>\n",
              "      <td>GasA</td>\n",
              "      <td>Ex</td>\n",
              "      <td>Y</td>\n",
              "      <td>83</td>\n",
              "      <td>0</td>\n",
              "      <td>83</td>\n",
              "      <td>3</td>\n",
              "      <td>1</td>\n",
              "      <td>4</td>\n",
              "      <td>5</td>\n",
              "      <td>Freistehend</td>\n",
              "      <td>1</td>\n",
              "      <td>NaN</td>\n",
              "      <td>6</td>\n",
              "      <td>2140</td>\n",
              "      <td>137900</td>\n",
              "    </tr>\n",
              "    <tr>\n",
              "      <th>3</th>\n",
              "      <td>725</td>\n",
              "      <td>Reg</td>\n",
              "      <td>Nein</td>\n",
              "      <td>Somerset West</td>\n",
              "      <td>RL</td>\n",
              "      <td>Norm</td>\n",
              "      <td>1Fam</td>\n",
              "      <td>5</td>\n",
              "      <td>2135</td>\n",
              "      <td>2135</td>\n",
              "      <td>3</td>\n",
              "      <td>83</td>\n",
              "      <td>GasA</td>\n",
              "      <td>Ex</td>\n",
              "      <td>Y</td>\n",
              "      <td>83</td>\n",
              "      <td>74</td>\n",
              "      <td>157</td>\n",
              "      <td>3</td>\n",
              "      <td>1</td>\n",
              "      <td>4</td>\n",
              "      <td>8</td>\n",
              "      <td>Anbau</td>\n",
              "      <td>2</td>\n",
              "      <td>NaN</td>\n",
              "      <td>4</td>\n",
              "      <td>2136</td>\n",
              "      <td>184000</td>\n",
              "    </tr>\n",
              "    <tr>\n",
              "      <th>4</th>\n",
              "      <td>697</td>\n",
              "      <td>Reg</td>\n",
              "      <td>Nein</td>\n",
              "      <td>Miller</td>\n",
              "      <td>RL</td>\n",
              "      <td>Norm</td>\n",
              "      <td>1Fam</td>\n",
              "      <td>5</td>\n",
              "      <td>2129</td>\n",
              "      <td>2129</td>\n",
              "      <td>3</td>\n",
              "      <td>92</td>\n",
              "      <td>GasA</td>\n",
              "      <td>Gut</td>\n",
              "      <td>Y</td>\n",
              "      <td>96</td>\n",
              "      <td>72</td>\n",
              "      <td>168</td>\n",
              "      <td>3</td>\n",
              "      <td>1</td>\n",
              "      <td>4</td>\n",
              "      <td>7</td>\n",
              "      <td>Anbau</td>\n",
              "      <td>2</td>\n",
              "      <td>NaN</td>\n",
              "      <td>6</td>\n",
              "      <td>2140</td>\n",
              "      <td>189000</td>\n",
              "    </tr>\n",
              "    <tr>\n",
              "      <th>...</th>\n",
              "      <td>...</td>\n",
              "      <td>...</td>\n",
              "      <td>...</td>\n",
              "      <td>...</td>\n",
              "      <td>...</td>\n",
              "      <td>...</td>\n",
              "      <td>...</td>\n",
              "      <td>...</td>\n",
              "      <td>...</td>\n",
              "      <td>...</td>\n",
              "      <td>...</td>\n",
              "      <td>...</td>\n",
              "      <td>...</td>\n",
              "      <td>...</td>\n",
              "      <td>...</td>\n",
              "      <td>...</td>\n",
              "      <td>...</td>\n",
              "      <td>...</td>\n",
              "      <td>...</td>\n",
              "      <td>...</td>\n",
              "      <td>...</td>\n",
              "      <td>...</td>\n",
              "      <td>...</td>\n",
              "      <td>...</td>\n",
              "      <td>...</td>\n",
              "      <td>...</td>\n",
              "      <td>...</td>\n",
              "      <td>...</td>\n",
              "    </tr>\n",
              "    <tr>\n",
              "      <th>1995</th>\n",
              "      <td>1272</td>\n",
              "      <td>IR1</td>\n",
              "      <td>Nein</td>\n",
              "      <td>North East</td>\n",
              "      <td>RL</td>\n",
              "      <td>Norm</td>\n",
              "      <td>1Fam</td>\n",
              "      <td>5</td>\n",
              "      <td>2133</td>\n",
              "      <td>2134</td>\n",
              "      <td>3</td>\n",
              "      <td>146</td>\n",
              "      <td>GasA</td>\n",
              "      <td>Ex</td>\n",
              "      <td>Y</td>\n",
              "      <td>146</td>\n",
              "      <td>102</td>\n",
              "      <td>248</td>\n",
              "      <td>3</td>\n",
              "      <td>1</td>\n",
              "      <td>5</td>\n",
              "      <td>10</td>\n",
              "      <td>Eingebaut</td>\n",
              "      <td>3</td>\n",
              "      <td>NaN</td>\n",
              "      <td>3</td>\n",
              "      <td>2138</td>\n",
              "      <td>412500</td>\n",
              "    </tr>\n",
              "    <tr>\n",
              "      <th>1996</th>\n",
              "      <td>941</td>\n",
              "      <td>IR1</td>\n",
              "      <td>Nein</td>\n",
              "      <td>Miller</td>\n",
              "      <td>RL</td>\n",
              "      <td>Norm</td>\n",
              "      <td>1Fam</td>\n",
              "      <td>5</td>\n",
              "      <td>2134</td>\n",
              "      <td>2134</td>\n",
              "      <td>3</td>\n",
              "      <td>79</td>\n",
              "      <td>GasA</td>\n",
              "      <td>Ex</td>\n",
              "      <td>Y</td>\n",
              "      <td>79</td>\n",
              "      <td>69</td>\n",
              "      <td>148</td>\n",
              "      <td>3</td>\n",
              "      <td>1</td>\n",
              "      <td>4</td>\n",
              "      <td>7</td>\n",
              "      <td>Anbau</td>\n",
              "      <td>2</td>\n",
              "      <td>NaN</td>\n",
              "      <td>7</td>\n",
              "      <td>2139</td>\n",
              "      <td>195500</td>\n",
              "    </tr>\n",
              "    <tr>\n",
              "      <th>1997</th>\n",
              "      <td>1093</td>\n",
              "      <td>Reg</td>\n",
              "      <td>Nein</td>\n",
              "      <td>Grand Park</td>\n",
              "      <td>RL</td>\n",
              "      <td>Norm</td>\n",
              "      <td>1Fam</td>\n",
              "      <td>7</td>\n",
              "      <td>2040</td>\n",
              "      <td>2130</td>\n",
              "      <td>3</td>\n",
              "      <td>52</td>\n",
              "      <td>GasA</td>\n",
              "      <td>Gut</td>\n",
              "      <td>N</td>\n",
              "      <td>74</td>\n",
              "      <td>51</td>\n",
              "      <td>125</td>\n",
              "      <td>2</td>\n",
              "      <td>1</td>\n",
              "      <td>3</td>\n",
              "      <td>6</td>\n",
              "      <td>Freistehend</td>\n",
              "      <td>1</td>\n",
              "      <td>NaN</td>\n",
              "      <td>5</td>\n",
              "      <td>2137</td>\n",
              "      <td>112000</td>\n",
              "    </tr>\n",
              "    <tr>\n",
              "      <th>1998</th>\n",
              "      <td>1228</td>\n",
              "      <td>IR1</td>\n",
              "      <td>Nein</td>\n",
              "      <td>North East</td>\n",
              "      <td>RL</td>\n",
              "      <td>Norm</td>\n",
              "      <td>1Fam</td>\n",
              "      <td>5</td>\n",
              "      <td>2134</td>\n",
              "      <td>2134</td>\n",
              "      <td>3</td>\n",
              "      <td>132</td>\n",
              "      <td>GasA</td>\n",
              "      <td>Ex</td>\n",
              "      <td>Y</td>\n",
              "      <td>132</td>\n",
              "      <td>45</td>\n",
              "      <td>178</td>\n",
              "      <td>3</td>\n",
              "      <td>1</td>\n",
              "      <td>4</td>\n",
              "      <td>9</td>\n",
              "      <td>Eingebaut</td>\n",
              "      <td>3</td>\n",
              "      <td>NaN</td>\n",
              "      <td>2</td>\n",
              "      <td>2136</td>\n",
              "      <td>279000</td>\n",
              "    </tr>\n",
              "    <tr>\n",
              "      <th>1999</th>\n",
              "      <td>778</td>\n",
              "      <td>Reg</td>\n",
              "      <td>Nein</td>\n",
              "      <td>Somerset</td>\n",
              "      <td>RL</td>\n",
              "      <td>Norm</td>\n",
              "      <td>1Fam</td>\n",
              "      <td>7</td>\n",
              "      <td>2071</td>\n",
              "      <td>2103</td>\n",
              "      <td>3</td>\n",
              "      <td>54</td>\n",
              "      <td>GasA</td>\n",
              "      <td>Gut</td>\n",
              "      <td>Y</td>\n",
              "      <td>80</td>\n",
              "      <td>45</td>\n",
              "      <td>125</td>\n",
              "      <td>2</td>\n",
              "      <td>1</td>\n",
              "      <td>4</td>\n",
              "      <td>6</td>\n",
              "      <td>2Typen</td>\n",
              "      <td>3</td>\n",
              "      <td>NaN</td>\n",
              "      <td>6</td>\n",
              "      <td>2138</td>\n",
              "      <td>152400</td>\n",
              "    </tr>\n",
              "  </tbody>\n",
              "</table>\n",
              "<p>2000 rows × 28 columns</p>\n",
              "</div>"
            ],
            "text/plain": [
              "      Grundstück in qm Grundstücksform  ... Verkaufsjahr   Preis\n",
              "0                  898             IR1  ...         2136  156500\n",
              "1                 1326             Reg  ...         2137  350000\n",
              "2                  725             Reg  ...         2140  137900\n",
              "3                  725             Reg  ...         2136  184000\n",
              "4                  697             Reg  ...         2140  189000\n",
              "...                ...             ...  ...          ...     ...\n",
              "1995              1272             IR1  ...         2138  412500\n",
              "1996               941             IR1  ...         2139  195500\n",
              "1997              1093             Reg  ...         2137  112000\n",
              "1998              1228             IR1  ...         2136  279000\n",
              "1999               778             Reg  ...         2138  152400\n",
              "\n",
              "[2000 rows x 28 columns]"
            ]
          },
          "metadata": {
            "tags": []
          },
          "execution_count": 17
        }
      ]
    },
    {
      "cell_type": "code",
      "metadata": {
        "id": "7a6SNf63sEqt"
      },
      "source": [
        "data['Renoviert'].hist(bins=60)\n",
        "plt.show()"
      ],
      "execution_count": null,
      "outputs": []
    },
    {
      "cell_type": "code",
      "metadata": {
        "id": "nh4FCI0P2mn4"
      },
      "source": [
        "corr_matrix = data.corr()\n",
        "corr_matrix['Preis'].sort_values(ascending=False)"
      ],
      "execution_count": null,
      "outputs": []
    },
    {
      "cell_type": "code",
      "metadata": {
        "id": "NIKMVYdzlBGl"
      },
      "source": [
        "from sklearn.impute import SimpleImputer\n",
        "\n",
        "imputer = SimpleImputer(missing_values=np.NaN, strategy='mean')\n",
        "\n",
        "imputer.fit(corr_matrix)\n",
        "\n",
        "corr_matrix_i = imputer.transform(corr_matrix)\n",
        "\n",
        "# corr_matrix_i = pd.DataFrame(corr_matrix_i)"
      ],
      "execution_count": null,
      "outputs": []
    },
    {
      "cell_type": "code",
      "metadata": {
        "id": "XPhcrhE8ZZbe"
      },
      "source": [
        "# sns.clustermap(data=corr_matrix_i, annot=True, cmap='Greens')\n",
        "\n",
        "plt.subplots(figsize=(20,15))\n",
        "\n",
        "ax = sns.heatmap(\n",
        "    corr_matrix,\n",
        "    vmin=-1, vmax=1, center=0,\n",
        "    cmap=sns.diverging_palette(220, 10, as_cmap=True),\n",
        "    square=True,\n",
        ")\n",
        "\n",
        "ax.set_xticklabels(\n",
        "    data.columns,\n",
        "    rotation=45,\n",
        "    horizontalalignment='right'\n",
        ")"
      ],
      "execution_count": null,
      "outputs": []
    },
    {
      "cell_type": "code",
      "metadata": {
        "id": "bRgF1MAyrY7Y"
      },
      "source": [
        "from matplotlib.collections import EllipseCollection\n",
        "\n",
        "def plot_corr_ellipses(data, ax=None, **kwargs):\n",
        "\n",
        "    M = np.array(data)\n",
        "    if not M.ndim == 2:\n",
        "        raise ValueError('data must be a 2D array')\n",
        "    if ax is None:\n",
        "        fig, ax = plt.subplots(1, 1, subplot_kw={'aspect':'equal'})\n",
        "        ax.set_xlim(-0.5, M.shape[1] - 0.5)\n",
        "        ax.set_ylim(-0.5, M.shape[0] - 0.5)\n",
        "\n",
        "    # xy locations of each ellipse center\n",
        "    xy = np.indices(M.shape)[::-1].reshape(2, -1).T\n",
        "\n",
        "    # set the relative sizes of the major/minor axes according to the strength of\n",
        "    # the positive/negative correlation\n",
        "    w = np.ones_like(M).ravel()\n",
        "    h = 1 - np.abs(M).ravel()\n",
        "    a = 45 * np.sign(M).ravel()\n",
        "\n",
        "    ec = EllipseCollection(widths=w, heights=h, angles=a, units='x', offsets=xy,\n",
        "                           transOffset=ax.transData, array=M.ravel(), **kwargs)\n",
        "    ax.add_collection(ec)\n",
        "\n",
        "    # if data is a DataFrame, use the row/column names as tick labels\n",
        "    if isinstance(data, pd.DataFrame):\n",
        "        ax.set_xticks(np.arange(M.shape[1]))\n",
        "        ax.set_xticklabels(data.columns, rotation=90)\n",
        "        ax.set_yticks(np.arange(M.shape[0]))\n",
        "        ax.set_yticklabels(data.index)\n",
        "\n",
        "    return ec"
      ],
      "execution_count": null,
      "outputs": []
    },
    {
      "cell_type": "code",
      "metadata": {
        "id": "RiZHXuTBrbWb"
      },
      "source": [
        "\n",
        "\n",
        "fig, ax = plt.subplots(figsize=(30,25))\n",
        "m = plot_corr_ellipses(corr_matrix, ax=ax, cmap=sns.diverging_palette(220, 10, as_cmap=True))\n",
        "cb = fig.colorbar(m)\n",
        "cb.set_label('Correlation coefficient')\n",
        "ax.margins(0.1)"
      ],
      "execution_count": null,
      "outputs": []
    },
    {
      "cell_type": "code",
      "metadata": {
        "id": "k-7sJb1VoU42"
      },
      "source": [
        "corr_matrix_i"
      ],
      "execution_count": null,
      "outputs": []
    },
    {
      "cell_type": "code",
      "metadata": {
        "id": "Tzti1ZvU3CUU"
      },
      "source": [
        "corr_matrix = data.corr()\n",
        "corr_matrix.plot(figsize=(20,15))"
      ],
      "execution_count": null,
      "outputs": []
    },
    {
      "cell_type": "code",
      "metadata": {
        "id": "INLnKh1s3yyO"
      },
      "source": [
        "plt.scatter(x=data['Preis'], y=data['Grundstück in qm'], alpha=0.8)\n",
        "plt.show()"
      ],
      "execution_count": null,
      "outputs": []
    },
    {
      "cell_type": "code",
      "metadata": {
        "id": "JMzdobqU3_mQ"
      },
      "source": [
        "import seaborn as sns\n",
        "sns.set_theme(style=\"ticks\")\n",
        "sns.scatterplot(x=data['Preis'], y=data['Wohnfläche in qm'], alpha=0.8, hue=data['Bezirk'])"
      ],
      "execution_count": null,
      "outputs": []
    },
    {
      "cell_type": "code",
      "metadata": {
        "id": "F4Ty6Est4Q2Q"
      },
      "source": [
        "data.hist(bins=50, figsize=(20,15))\n",
        "plt.show()"
      ],
      "execution_count": null,
      "outputs": []
    },
    {
      "cell_type": "code",
      "metadata": {
        "id": "hBkoYZFm4WWG"
      },
      "source": [
        "from pandas.plotting import scatter_matrix\n",
        "attributes = ['Grundstück in qm', 'Gebaut', 'Renoviert', 'Kellerfläche in qm', 'Wohnfläche in qm', 'Räume', 'Preis', 'Verkaufsjahr']\n",
        "scatter_matrix(data[attributes], figsize=(20,15), alpha=0.2)"
      ],
      "execution_count": null,
      "outputs": []
    }
  ]
}